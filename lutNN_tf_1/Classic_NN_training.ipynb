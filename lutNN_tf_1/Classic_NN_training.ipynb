{
 "cells": [
  {
   "cell_type": "markdown",
   "id": "d4e108fe-72a6-4053-bec2-af1a368594f2",
   "metadata": {},
   "source": [
    "## Environment setup"
   ]
  },
  {
   "cell_type": "code",
   "execution_count": 3,
   "id": "d419c1d5-26ec-42d6-a6fb-e076dd903666",
   "metadata": {},
   "outputs": [],
   "source": [
    "import glob, os, time\n",
    "from datetime import datetime\n",
    "from functools import partial\n",
    "import importlib\n",
    "\n",
    "import numpy as np\n",
    "\n",
    "import tensorflow as tf"
   ]
  },
  {
   "cell_type": "markdown",
   "id": "d5e9384f-3b1f-4210-b8cf-9cda27c00a8a",
   "metadata": {},
   "source": [
    "## Networks definitions and adaptations"
   ]
  },
  {
   "cell_type": "code",
   "execution_count": 1,
   "id": "9ef53a8d-4d7c-4d1d-b914-8429d43fa8bb",
   "metadata": {},
   "outputs": [
    {
     "name": "stdout",
     "output_type": "stream",
     "text": [
      "Classic NN definitions:\n",
      "dense_layer1_size: 128\n",
      "dense_layer2_size: 64\n",
      "dense_layer3_size: 48\n",
      "dense_layer4_size: 1\n",
      "------------------------\n"
     ]
    }
   ],
   "source": [
    "from architecture_definitions import *\n",
    " \n",
    "dir_postfix = get_classic_nn_dir_postfix() \n",
    "    \n",
    "print_Classic_NN()  "
   ]
  },
  {
   "cell_type": "markdown",
   "id": "630c86e0-bf1f-4a56-abf8-5762ea739a8f",
   "metadata": {},
   "source": [
    "### Training data set preparation"
   ]
  },
  {
   "cell_type": "code",
   "execution_count": 7,
   "id": "165627dd-9c1c-41ea-b97a-ff97949c379a",
   "metadata": {},
   "outputs": [
    {
     "name": "stdout",
     "output_type": "stream",
     "text": [
      "Reading data from files:\n",
      "/scratch_cmsse/alibordi/data/omtfAnalysis_22Feb.tfrecord.gzip\n"
     ]
    }
   ],
   "source": [
    "import io_functions as io\n",
    "importlib.reload(io)\n",
    "\n",
    "batchSize = 4096\n",
    "nEpochs = 1\n",
    "\n",
    "trainDataDir = \"/scratch_ssd/akalinow/ProgrammingProjects/MachineLearning/OMTF/data/18_12_2020/\"   \n",
    "trainFileNames = glob.glob(trainDataDir+'OMTFHits_pats0x0003_oldSample_files_*_chunk_0.tfrecord.gzip')\n",
    "\n",
    "trainDataDir = \"/scratch_cmsse/alibordi/data/\"\n",
    "trainFileNames = glob.glob(testDataDir+'*22Feb*tfrecord.gzip')\n",
    "\n",
    "dataset = io.get_Classic_NN_dataset(batchSize, nEpochs, trainFileNames, isTrain=True)"
   ]
  },
  {
   "cell_type": "markdown",
   "id": "44abffd6-e9d9-47f0-9198-a84e8c7ac6b6",
   "metadata": {},
   "source": [
    "### Model definition"
   ]
  },
  {
   "cell_type": "code",
   "execution_count": 5,
   "id": "d414507a-ce56-42f5-8edf-0a4064d77c88",
   "metadata": {},
   "outputs": [
    {
     "name": "stdout",
     "output_type": "stream",
     "text": [
      "Model: \"sequential\"\n",
      "_________________________________________________________________\n",
      " Layer (type)                Output Shape              Param #   \n",
      "=================================================================\n",
      " pt_layer_1 (Dense)          (None, 128)               4864      \n",
      "                                                                 \n",
      " pt_layer_2 (Dense)          (None, 64)                8256      \n",
      "                                                                 \n",
      " pt_layer_3 (Dense)          (None, 48)                3120      \n",
      "                                                                 \n",
      " dense (Dense)               (None, 1)                 49        \n",
      "                                                                 \n",
      "=================================================================\n",
      "Total params: 16,289\n",
      "Trainable params: 16,289\n",
      "Non-trainable params: 0\n",
      "_________________________________________________________________\n"
     ]
    }
   ],
   "source": [
    "import model_functions as models\n",
    "importlib.reload(models)\n",
    "\n",
    "import io_functions as io\n",
    "importlib.reload(io)\n",
    "\n",
    "networkInputSize = 2 * np.sum(io.getFeaturesMask()) + 1\n",
    "loss_fn = 'mae'\n",
    "\n",
    "model = models.get_Classic_NN(networkInputSize=networkInputSize, loss_fn=loss_fn)\n",
    "model.summary()"
   ]
  },
  {
   "cell_type": "markdown",
   "id": "d42a01e5-c7aa-4f68-87f1-c6a4e6270723",
   "metadata": {},
   "source": [
    "### The training loop"
   ]
  },
  {
   "cell_type": "code",
   "execution_count": 8,
   "id": "7c510c79-fee3-4799-8a21-f8365f8107a1",
   "metadata": {},
   "outputs": [
    {
     "name": "stdout",
     "output_type": "stream",
     "text": [
      "INFO:tensorflow:Mixed precision compatibility check (mixed_float16): OK\n",
      "Your GPU will likely run quickly with dtype policy mixed_float16 as it has compute capability of at least 7.0. Your GPU: NVIDIA GeForce RTX 2070 SUPER, compute capability 7.5\n",
      "Compute dtype: float16\n",
      "Variable dtype: float32\n"
     ]
    },
    {
     "name": "stderr",
     "output_type": "stream",
     "text": [
      "2023-03-16 17:03:41.384307: I tensorflow/stream_executor/cuda/cuda_gpu_executor.cc:975] successful NUMA node read from SysFS had negative value (-1), but there must be at least one NUMA node, so returning NUMA node zero\n"
     ]
    }
   ],
   "source": [
    "from tensorflow.keras import mixed_precision\n",
    "policy = mixed_precision.Policy('mixed_float16')\n",
    "mixed_precision.set_global_policy(policy)\n",
    "print('Compute dtype: %s' % policy.compute_dtype)\n",
    "print('Variable dtype: %s' % policy.variable_dtype)"
   ]
  },
  {
   "cell_type": "code",
   "execution_count": 8,
   "id": "a48d01be-95ac-416b-8577-c23d3f8924b0",
   "metadata": {},
   "outputs": [
    {
     "name": "stdout",
     "output_type": "stream",
     "text": [
      "Training start. Current Time = 2023_Mar_17_17_13_49\n",
      "Epoch 1/50\n"
     ]
    },
    {
     "name": "stderr",
     "output_type": "stream",
     "text": [
      "2023-03-17 17:13:49.423655: I tensorflow/core/profiler/lib/profiler_session.cc:99] Profiler session initializing.\n",
      "2023-03-17 17:13:49.423678: I tensorflow/core/profiler/lib/profiler_session.cc:114] Profiler session started.\n",
      "2023-03-17 17:13:49.529906: I tensorflow/core/profiler/lib/profiler_session.cc:126] Profiler session tear down.\n",
      "2023-03-17 17:13:49.531184: I tensorflow/core/profiler/internal/gpu/cupti_tracer.cc:1799] CUPTI activity buffer flushed\n"
     ]
    },
    {
     "name": "stdout",
     "output_type": "stream",
     "text": [
      "     10/Unknown - 1s 17ms/step - loss: 314.3122"
     ]
    },
    {
     "name": "stderr",
     "output_type": "stream",
     "text": [
      "2023-03-17 17:13:49.995231: I tensorflow/core/profiler/lib/profiler_session.cc:99] Profiler session initializing.\n",
      "2023-03-17 17:13:49.995260: I tensorflow/core/profiler/lib/profiler_session.cc:114] Profiler session started.\n",
      "2023-03-17 17:13:50.197016: I tensorflow/core/profiler/lib/profiler_session.cc:66] Profiler session collecting data.\n",
      "2023-03-17 17:13:50.200834: I tensorflow/core/profiler/internal/gpu/cupti_tracer.cc:1799] CUPTI activity buffer flushed\n",
      "2023-03-17 17:13:50.357353: I tensorflow/core/profiler/internal/gpu/cupti_collector.cc:521]  GpuTracer has collected 1495 callback api events and 1474 activity events. \n",
      "2023-03-17 17:13:50.423990: I tensorflow/core/profiler/lib/profiler_session.cc:126] Profiler session tear down.\n",
      "2023-03-17 17:13:50.608506: I tensorflow/core/profiler/rpc/client/save_profile.cc:136] Creating directory: logs/fit/2023_Mar_17_17_13_49_classic_128_64_48_1/plugins/profile/2023_03_17_17_13_50\n",
      "\n"
     ]
    },
    {
     "name": "stdout",
     "output_type": "stream",
     "text": [
      "     29/Unknown - 1s 36ms/step - loss: 120.1534"
     ]
    },
    {
     "name": "stderr",
     "output_type": "stream",
     "text": [
      "2023-03-17 17:13:50.820561: I tensorflow/core/profiler/rpc/client/save_profile.cc:142] Dumped gzipped tool data for trace.json.gz to logs/fit/2023_Mar_17_17_13_49_classic_128_64_48_1/plugins/profile/2023_03_17_17_13_50/282230e604e0.trace.json.gz\n",
      "2023-03-17 17:13:50.918841: I tensorflow/core/profiler/rpc/client/save_profile.cc:136] Creating directory: logs/fit/2023_Mar_17_17_13_49_classic_128_64_48_1/plugins/profile/2023_03_17_17_13_50\n",
      "\n",
      "2023-03-17 17:13:50.923955: I tensorflow/core/profiler/rpc/client/save_profile.cc:142] Dumped gzipped tool data for memory_profile.json.gz to logs/fit/2023_Mar_17_17_13_49_classic_128_64_48_1/plugins/profile/2023_03_17_17_13_50/282230e604e0.memory_profile.json.gz\n",
      "2023-03-17 17:13:50.926164: I tensorflow/core/profiler/rpc/client/capture_profile.cc:251] Creating directory: logs/fit/2023_Mar_17_17_13_49_classic_128_64_48_1/plugins/profile/2023_03_17_17_13_50\n",
      "Dumped tool data for xplane.pb to logs/fit/2023_Mar_17_17_13_49_classic_128_64_48_1/plugins/profile/2023_03_17_17_13_50/282230e604e0.xplane.pb\n",
      "Dumped tool data for overview_page.pb to logs/fit/2023_Mar_17_17_13_49_classic_128_64_48_1/plugins/profile/2023_03_17_17_13_50/282230e604e0.overview_page.pb\n",
      "Dumped tool data for input_pipeline.pb to logs/fit/2023_Mar_17_17_13_49_classic_128_64_48_1/plugins/profile/2023_03_17_17_13_50/282230e604e0.input_pipeline.pb\n",
      "Dumped tool data for tensorflow_stats.pb to logs/fit/2023_Mar_17_17_13_49_classic_128_64_48_1/plugins/profile/2023_03_17_17_13_50/282230e604e0.tensorflow_stats.pb\n",
      "Dumped tool data for kernel_stats.pb to logs/fit/2023_Mar_17_17_13_49_classic_128_64_48_1/plugins/profile/2023_03_17_17_13_50/282230e604e0.kernel_stats.pb\n",
      "\n"
     ]
    },
    {
     "name": "stdout",
     "output_type": "stream",
     "text": [
      "96/96 [==============================] - 3s 26ms/step - loss: 49.6816\n",
      "Epoch 2/50\n",
      "96/96 [==============================] - 2s 22ms/step - loss: 16.5711\n",
      "Epoch 3/50\n",
      "96/96 [==============================] - 2s 21ms/step - loss: 13.5054\n",
      "Epoch 4/50\n",
      "96/96 [==============================] - 2s 21ms/step - loss: 11.8692\n",
      "Epoch 5/50\n",
      "96/96 [==============================] - 2s 22ms/step - loss: 10.9808\n",
      "Epoch 6/50\n",
      "96/96 [==============================] - 2s 22ms/step - loss: 10.4205\n",
      "Epoch 7/50\n",
      "96/96 [==============================] - 2s 22ms/step - loss: 9.9278\n",
      "Epoch 8/50\n",
      "96/96 [==============================] - 2s 21ms/step - loss: 9.6024\n",
      "Epoch 9/50\n",
      "96/96 [==============================] - 2s 22ms/step - loss: 9.3255\n",
      "Epoch 10/50\n",
      "96/96 [==============================] - 2s 21ms/step - loss: 9.1254\n",
      "Epoch 11/50\n",
      "96/96 [==============================] - 2s 21ms/step - loss: 8.9699\n",
      "Epoch 12/50\n",
      "96/96 [==============================] - 2s 21ms/step - loss: 8.8124\n",
      "Epoch 13/50\n",
      "96/96 [==============================] - 2s 22ms/step - loss: 8.7005\n",
      "Epoch 14/50\n",
      "96/96 [==============================] - 2s 22ms/step - loss: 8.6188\n",
      "Epoch 15/50\n",
      "96/96 [==============================] - 2s 21ms/step - loss: 8.5223\n",
      "Epoch 16/50\n",
      "96/96 [==============================] - 2s 22ms/step - loss: 8.4661\n",
      "Epoch 17/50\n",
      "96/96 [==============================] - 2s 22ms/step - loss: 8.4063\n",
      "Epoch 18/50\n",
      "96/96 [==============================] - 2s 21ms/step - loss: 8.3368\n",
      "Epoch 19/50\n",
      "96/96 [==============================] - 2s 21ms/step - loss: 8.2700\n",
      "Epoch 20/50\n",
      "96/96 [==============================] - 2s 21ms/step - loss: 8.2482\n",
      "Epoch 21/50\n",
      "96/96 [==============================] - 2s 23ms/step - loss: 8.2054\n",
      "Epoch 22/50\n",
      "96/96 [==============================] - 2s 21ms/step - loss: 8.1458\n",
      "Epoch 23/50\n",
      "96/96 [==============================] - 2s 22ms/step - loss: 8.1162\n",
      "Epoch 24/50\n",
      "96/96 [==============================] - 2s 22ms/step - loss: 8.0832\n",
      "Epoch 25/50\n",
      "96/96 [==============================] - 2s 22ms/step - loss: 8.0567\n",
      "Epoch 26/50\n",
      "96/96 [==============================] - 2s 21ms/step - loss: 7.9996\n",
      "Epoch 27/50\n",
      "96/96 [==============================] - 2s 22ms/step - loss: 7.9694\n",
      "Epoch 28/50\n",
      "96/96 [==============================] - 2s 21ms/step - loss: 7.9498\n",
      "Epoch 29/50\n",
      "96/96 [==============================] - 2s 23ms/step - loss: 7.9105\n",
      "Epoch 30/50\n",
      "96/96 [==============================] - 2s 22ms/step - loss: 7.8804\n",
      "Epoch 31/50\n",
      "96/96 [==============================] - 2s 22ms/step - loss: 7.8587\n",
      "Epoch 32/50\n",
      "96/96 [==============================] - 2s 21ms/step - loss: 7.8342\n",
      "Epoch 33/50\n",
      "96/96 [==============================] - 2s 22ms/step - loss: 7.8061\n",
      "Epoch 34/50\n",
      "96/96 [==============================] - 2s 22ms/step - loss: 7.8266\n",
      "Epoch 35/50\n",
      "96/96 [==============================] - 2s 22ms/step - loss: 7.8006\n",
      "Epoch 36/50\n",
      "96/96 [==============================] - 2s 22ms/step - loss: 7.7819\n",
      "Epoch 37/50\n",
      "96/96 [==============================] - 2s 23ms/step - loss: 7.7490\n",
      "Epoch 38/50\n",
      "96/96 [==============================] - 2s 22ms/step - loss: 7.7287\n",
      "Epoch 39/50\n",
      "96/96 [==============================] - 2s 21ms/step - loss: 7.6961\n",
      "Epoch 40/50\n",
      "96/96 [==============================] - 2s 22ms/step - loss: 7.6857\n",
      "Epoch 41/50\n",
      "96/96 [==============================] - 2s 21ms/step - loss: 7.6579\n",
      "Epoch 42/50\n",
      "96/96 [==============================] - 2s 22ms/step - loss: 7.6274\n",
      "Epoch 43/50\n",
      "96/96 [==============================] - 2s 21ms/step - loss: 7.6263\n",
      "Epoch 44/50\n",
      "96/96 [==============================] - 2s 22ms/step - loss: 7.5864\n",
      "Epoch 45/50\n",
      "96/96 [==============================] - 2s 21ms/step - loss: 7.5848\n",
      "Epoch 46/50\n",
      "96/96 [==============================] - 2s 22ms/step - loss: 7.5731\n",
      "Epoch 47/50\n",
      "96/96 [==============================] - 2s 21ms/step - loss: 7.5325\n",
      "Epoch 48/50\n",
      "96/96 [==============================] - 2s 21ms/step - loss: 7.5204\n",
      "Epoch 49/50\n",
      "96/96 [==============================] - 2s 21ms/step - loss: 7.5151\n",
      "Epoch 50/50\n",
      "96/96 [==============================] - 2s 22ms/step - loss: 7.4864\n",
      "INFO:tensorflow:Assets written to: training/2023_Mar_17_17_13_49_classic_128_64_48_1/assets\n",
      "Training end. Current Time = 2023_Mar_17_17_15_35\n",
      "CPU times: user 5min 57s, sys: 1min 25s, total: 7min 23s\n",
      "Wall time: 1min 46s\n"
     ]
    }
   ],
   "source": [
    "%%time\n",
    "current_time = datetime.now().strftime(\"%Y_%b_%d_%H_%M_%S\")\n",
    "print(\"Training start. Current Time =\", current_time)\n",
    "\n",
    "nEpochs = 50\n",
    "\n",
    "log_dir = \"logs/fit/\" + current_time + dir_postfix\n",
    "job_dir = \"training/\" + current_time + dir_postfix\n",
    "\n",
    "checkpoint_path = job_dir + \"/cp-{epoch:04d}.ckpt\"\n",
    "checkpoint_dir = os.path.dirname(checkpoint_path)\n",
    "\n",
    "cp_callback = tf.keras.callbacks.ModelCheckpoint(filepath=checkpoint_path,\n",
    "                                                 save_weights_only=True,\n",
    "                                                 verbose=1,\n",
    "                                                 save_freq = 5085)\n",
    "tensorboard_callback = tf.keras.callbacks.TensorBoard(log_dir=log_dir, histogram_freq=1, profile_batch=(10, 20))\n",
    "\n",
    "model.save_weights(checkpoint_path.format(epoch=0))\n",
    "   \n",
    "model.fit(dataset, epochs=nEpochs, shuffle=True,\n",
    "            callbacks=[tensorboard_callback, cp_callback]\n",
    "            )\n",
    "model.save(job_dir, save_format='tf')\n",
    "\n",
    "current_time = datetime.now().strftime(\"%Y_%b_%d_%H_%M_%S\")\n",
    "print(\"Training end. Current Time =\", current_time)"
   ]
  },
  {
   "cell_type": "code",
   "execution_count": null,
   "id": "25055775-bb35-4e44-a89e-24db1a89ba42",
   "metadata": {},
   "outputs": [],
   "source": []
  }
 ],
 "metadata": {
  "kernelspec": {
   "display_name": "Python 3 (ipykernel)",
   "language": "python",
   "name": "python3"
  },
  "language_info": {
   "codemirror_mode": {
    "name": "ipython",
    "version": 3
   },
   "file_extension": ".py",
   "mimetype": "text/x-python",
   "name": "python",
   "nbconvert_exporter": "python",
   "pygments_lexer": "ipython3",
   "version": "3.8.10"
  }
 },
 "nbformat": 4,
 "nbformat_minor": 5
}
