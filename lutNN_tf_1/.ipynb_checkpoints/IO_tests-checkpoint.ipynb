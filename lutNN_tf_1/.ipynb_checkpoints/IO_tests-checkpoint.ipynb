{
 "cells": [
  {
   "cell_type": "markdown",
   "id": "d4e108fe-72a6-4053-bec2-af1a368594f2",
   "metadata": {},
   "source": [
    "## Environment setup"
   ]
  },
  {
   "cell_type": "code",
   "execution_count": 1,
   "id": "d419c1d5-26ec-42d6-a6fb-e076dd903666",
   "metadata": {},
   "outputs": [],
   "source": [
    "import glob\n",
    "import importlib"
   ]
  },
  {
   "cell_type": "markdown",
   "id": "d5e9384f-3b1f-4210-b8cf-9cda27c00a8a",
   "metadata": {},
   "source": [
    "## Networks definitions and adaptations"
   ]
  },
  {
   "cell_type": "code",
   "execution_count": 2,
   "id": "9ef53a8d-4d7c-4d1d-b914-8429d43fa8bb",
   "metadata": {},
   "outputs": [
    {
     "name": "stdout",
     "output_type": "stream",
     "text": [
      "Classic NN definitions:\n",
      "dense_layer1_size: 128\n",
      "dense_layer2_size: 64\n",
      "dense_layer3_size: 48\n",
      "dense_layer4_size: 1\n",
      "------------------------\n",
      "LUT NN definitions:\n",
      "layer1_lut_size 1024\n",
      "layer2_lut_size 256\n",
      "layer3_lut_size 32\n",
      "layer2_lutRangesCnt 16\n",
      "layer2_input_offset 8.0\n",
      "------------------------\n"
     ]
    }
   ],
   "source": [
    "from architecture_definitions import *\n",
    "\n",
    "oneOverPt = False \n",
    "lut_nn = True\n",
    "output_type = 0\n",
    "last_input_is_bias = True\n",
    "\n",
    "if output_type == 1:\n",
    "    layer3_neurons = 3\n",
    "    loss_fn = custom_loss3\n",
    "else: \n",
    "    output_cnt = 1\n",
    "    layer3_neurons = 1\n",
    "    loss_fn = 'mae'\n",
    "        \n",
    "if not last_input_is_bias:\n",
    "    networkInputSize =  nLayers\n",
    "    layer2_lutRangesCnt = 1\n",
    "    layer2_input_offset = None \n",
    "\n",
    "print_Classic_NN()  \n",
    "print_LUT_NN()  "
   ]
  },
  {
   "cell_type": "markdown",
   "id": "630c86e0-bf1f-4a56-abf8-5762ea739a8f",
   "metadata": {},
   "source": [
    "### Classic NN data read test"
   ]
  },
  {
   "cell_type": "code",
   "execution_count": 5,
   "id": "bf4a5d8d-4f72-4f24-97c0-951b4f650537",
   "metadata": {},
   "outputs": [
    {
     "name": "stdout",
     "output_type": "stream",
     "text": [
      "Reading data from files:\n",
      "/scratch_cmsse/alibordi/data/omtfAnalysis_22Feb.tfrecord.gzip\n",
      "Execution time: 4.190115006000269\n",
      "features.shape: (4096, 37)\n",
      "len(labels) 1\n",
      "labels[0].shape: (4096,)\n",
      "weights.shape: (4096,)\n",
      "Hits in OMTF Layers:\n",
      " [ 0.  0.  0.  0.  0.  0.  0.  0.  0.  0.  0.  0.  0.  0.  0.  0.  0.  0.\n",
      " 16. 16. 16. 16. 16. 16. 16. 16. 16. 16. 16. 16. 16. 16. 16. 16. 16. 16.\n",
      "  0.]\n",
      "ptLabels:\n",
      " 20.62\n",
      "weights:\n",
      " 1.0\n",
      "Reading data from files:\n",
      "/scratch_cmsse/alibordi/data/omtfAnalysis_15Feb.tfrecord.gzip\n",
      "Execution time: 3.0157685580052203\n",
      "features.shape: (4096, 37)\n",
      "len(labels) 6\n",
      "labels[0].shape: (4096,)\n",
      "weights.shape: (4096,)\n",
      "Hits in OMTF Layers:\n",
      " [ 0.  0.  0. -6. -2. -7.  0.  0.  0.  0.  0.  0.  0.  0.  0.  0.  0.  0.\n",
      " 16. 16.  0.  0.  0.  0. 16. 16. 16. 16. 16. 16. 16. 16. 16. 16. 16. 16.\n",
      "  2.]\n",
      "ptLabels:\n",
      " 48.75\n",
      "weights:\n",
      " 1.0\n",
      "CPU times: user 24 s, sys: 5.72 s, total: 29.7 s\n",
      "Wall time: 7.64 s\n"
     ]
    }
   ],
   "source": [
    "%%time\n",
    "import io_functions as io\n",
    "importlib.reload(io)\n",
    "\n",
    "trainDataDir = \"/scratch_ssd/akalinow/ProgrammingProjects/MachineLearning/OMTF/data/18_12_2020/\"   \n",
    "testDataDir = \"/scratch_ssd/akalinow/ProgrammingProjects/MachineLearning/OMTF/data/18_12_2020/\" \n",
    "\n",
    "testFileNames = glob.glob(trainDataDir+'OMTFHits_pats0x0003_newerSample_files_1_100_chunk_0.tfrecord.gzip')\n",
    "trainFileNames = glob.glob(testDataDir+'OMTFHits_pats0x0003_oldSample_files_*_chunk_0.tfrecord.gzip')\n",
    "\n",
    "trainDataDir = \"/scratch_cmsse/alibordi/data/\"\n",
    "testDataDir = \"/scratch_cmsse/alibordi/data/\"\n",
    "testFileNames = glob.glob(trainDataDir+'*15Feb*tfrecord.gzip')\n",
    "trainFileNames = glob.glob(testDataDir+'*22Feb*.tfrecord.gzip')\n",
    "\n",
    "batchSize = 4096\n",
    "nEpochs = 1\n",
    "\n",
    "dataset = io.get_Classic_NN_dataset(batchSize, nEpochs, trainFileNames, isTrain=True)\n",
    "io.reading_benchmark(dataset.take(100))\n",
    "io.dumpOneEvent(dataset)\n",
    "\n",
    "dataset = io.get_Classic_NN_dataset(batchSize, nEpochs, testFileNames, isTrain=False)\n",
    "io.reading_benchmark(dataset.take(100))\n",
    "io.dumpOneEvent(dataset)"
   ]
  },
  {
   "cell_type": "markdown",
   "id": "13288d0e-f4ea-4d20-a343-ca3a8f69bf5d",
   "metadata": {},
   "source": [
    "### LUT NN data read test"
   ]
  },
  {
   "cell_type": "code",
   "execution_count": null,
   "id": "4ca31a9e-cb5e-4bec-b674-45c3c29e7bbb",
   "metadata": {},
   "outputs": [],
   "source": [
    "%%time\n",
    "import io_functions as io\n",
    "importlib.reload(io)\n",
    "\n",
    "trainDataDir = \"/scratch_ssd/akalinow/ProgrammingProjects/MachineLearning/OMTF/data/18_12_2020/\"   \n",
    "testDataDir = \"/scratch_ssd/akalinow/ProgrammingProjects/MachineLearning/OMTF/data/18_12_2020/\" \n",
    "\n",
    "testFileNames = glob.glob(trainDataDir+'OMTFHits_pats0x0003_newerSample_files_1_100_chunk_0.tfrecord.gzip')\n",
    "trainFileNames = glob.glob(trainDataDir+'OMTFHits_pats0x0003_oldSample_files_*_chunk_0.tfrecord.gzip')\n",
    "\n",
    "batchSize = 4096\n",
    "nEpochs = 1\n",
    "\n",
    "dataset = io.get_LUT_NN_dataset(batchSize, nEpochs, trainFileNames, \n",
    "                                nRefLayers=nRefLayers,\n",
    "                                layer1_lut_size=layer1_lut_size,\n",
    "                                layer2_lut_size=layer2_lut_size,\n",
    "                                layer2_lutRangesCnt=layer2_lutRangesCnt,\n",
    "                                last_input_is_bias=last_input_is_bias,\n",
    "                                rangeFactor=rangeFactor,\n",
    "                                isTrain=True)\n",
    "io.reading_benchmark(dataset.take(100))\n",
    "io.dumpOneEvent(dataset)\n",
    "\n",
    "dataset = io.get_LUT_NN_dataset(batchSize, nEpochs, testFileNames, \n",
    "                                nRefLayers=nRefLayers,\n",
    "                                layer1_lut_size=layer1_lut_size,\n",
    "                                layer2_lut_size=layer2_lut_size,\n",
    "                                layer2_lutRangesCnt=layer2_lutRangesCnt,\n",
    "                                last_input_is_bias=last_input_is_bias,\n",
    "                                rangeFactor=rangeFactor,\n",
    "                                isTrain=False)\n",
    "io.reading_benchmark(dataset.take(100))\n",
    "io.dumpOneEvent(dataset)"
   ]
  },
  {
   "cell_type": "code",
   "execution_count": null,
   "id": "8d5d87f0-3d25-4377-88ff-bc49f4202307",
   "metadata": {},
   "outputs": [],
   "source": [
    "import pandas as pd\n",
    "fileName = \"/scratch_cmsse/alibordi/data/df.parquet_omtfAnalysis_22Feb.gzip\"\n",
    "#fileName = \"/scratch_ssd/akalinow/ProgrammingProjects/MachineLearning/OMTF/data/18_12_2020/df.parquet_OMTFHits_pats0x0003_newerSample_files_1_100_chunk_0.gzip\"\n",
    "df = pd.read_parquet(fileName)\n",
    "print(df.columns)\n",
    "df.describe()"
   ]
  },
  {
   "cell_type": "code",
   "execution_count": null,
   "id": "b8238640-1766-4b8b-a248-1e2d13179ef2",
   "metadata": {},
   "outputs": [],
   "source": [
    "df1 = df[df[\"omtfPt\"]>0]\n",
    "df1[\"muonEta\"].hist()"
   ]
  },
  {
   "cell_type": "code",
   "execution_count": null,
   "id": "3d9e2ca7-362d-4ba7-8b59-6427ebe0389d",
   "metadata": {},
   "outputs": [],
   "source": []
  }
 ],
 "metadata": {
  "kernelspec": {
   "display_name": "Python 3 (ipykernel)",
   "language": "python",
   "name": "python3"
  },
  "language_info": {
   "codemirror_mode": {
    "name": "ipython",
    "version": 3
   },
   "file_extension": ".py",
   "mimetype": "text/x-python",
   "name": "python",
   "nbconvert_exporter": "python",
   "pygments_lexer": "ipython3",
   "version": "3.8.10"
  }
 },
 "nbformat": 4,
 "nbformat_minor": 5
}
